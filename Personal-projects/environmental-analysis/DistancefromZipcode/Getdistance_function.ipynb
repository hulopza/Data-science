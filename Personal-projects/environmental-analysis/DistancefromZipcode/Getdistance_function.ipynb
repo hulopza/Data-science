{
 "cells": [
  {
   "cell_type": "code",
   "execution_count": 1,
   "id": "7579fca2",
   "metadata": {},
   "outputs": [
    {
     "name": "stdout",
     "output_type": "stream",
     "text": [
      "200\n",
      "<http.client.HTTPResponse object at 0x0000028A18397850>\n"
     ]
    }
   ],
   "source": [
    "\n",
    "import pgeocode\n",
    "import pandas as pd\n",
    "from geopy.distance import geodesic\n",
    "import numpy as np\n",
    "\n",
    "# coding: utf-8\n",
    "import urllib.request\n",
    "import ssl\n",
    "\n",
    "\n",
    "def main():\n",
    "    ssl._create_default_https_context = ssl._create_unverified_context\n",
    "    r = urllib.request.urlopen('https://google.com')\n",
    "    print(r.status)\n",
    "    print(r)\n",
    "\n",
    "\n",
    "if __name__ == '__main__':\n",
    "    main()"
   ]
  },
  {
   "cell_type": "code",
   "execution_count": 2,
   "id": "4fc3fab4",
   "metadata": {},
   "outputs": [],
   "source": [
    "\n",
    "    \n",
    "    \n"
   ]
  },
  {
   "cell_type": "code",
   "execution_count": 22,
   "id": "dd289e5c",
   "metadata": {},
   "outputs": [
    {
     "data": {
      "text/html": [
       "<div>\n",
       "<style scoped>\n",
       "    .dataframe tbody tr th:only-of-type {\n",
       "        vertical-align: middle;\n",
       "    }\n",
       "\n",
       "    .dataframe tbody tr th {\n",
       "        vertical-align: top;\n",
       "    }\n",
       "\n",
       "    .dataframe thead th {\n",
       "        text-align: right;\n",
       "    }\n",
       "</style>\n",
       "<table border=\"1\" class=\"dataframe\">\n",
       "  <thead>\n",
       "    <tr style=\"text-align: right;\">\n",
       "      <th></th>\n",
       "      <th>Origin country ISO code</th>\n",
       "      <th>Origin country Zip code</th>\n",
       "      <th>Destination country ISO code</th>\n",
       "      <th>Destination country zip code</th>\n",
       "    </tr>\n",
       "  </thead>\n",
       "  <tbody>\n",
       "    <tr>\n",
       "      <th>0</th>\n",
       "      <td>MX</td>\n",
       "      <td>52140</td>\n",
       "      <td>US</td>\n",
       "      <td>54946</td>\n",
       "    </tr>\n",
       "    <tr>\n",
       "      <th>1</th>\n",
       "      <td>MX</td>\n",
       "      <td>52148</td>\n",
       "      <td>CA</td>\n",
       "      <td>T2M</td>\n",
       "    </tr>\n",
       "  </tbody>\n",
       "</table>\n",
       "</div>"
      ],
      "text/plain": [
       "  Origin country ISO code  Origin country Zip code  \\\n",
       "0                      MX                    52140   \n",
       "1                      MX                    52148   \n",
       "\n",
       "  Destination country ISO code Destination country zip code  \n",
       "0                           US                        54946  \n",
       "1                           CA                          T2M  "
      ]
     },
     "execution_count": 22,
     "metadata": {},
     "output_type": "execute_result"
    }
   ],
   "source": [
    "csv = pd.read_csv(r\"C:\\Users\\music\\OneDrive\\Documents\\TestDistance.csv\")\n",
    "\n",
    "\n",
    "csv"
   ]
  },
  {
   "cell_type": "code",
   "execution_count": 3,
   "id": "d153e322",
   "metadata": {},
   "outputs": [
    {
     "data": {
      "text/plain": [
       "[51.133, -113.856]"
      ]
     },
     "execution_count": 3,
     "metadata": {},
     "output_type": "execute_result"
    }
   ],
   "source": [
    "nomi = pgeocode.Nominatim('CA')\n",
    "\n",
    "\n",
    "first_location = [nomi.query_postal_code('T2M').latitude, nomi.query_postal_code('T2M').longitude]\n",
    "first_location"
   ]
  },
  {
   "cell_type": "code",
   "execution_count": 4,
   "id": "2fbd4677",
   "metadata": {},
   "outputs": [
    {
     "data": {
      "text/plain": [
       "3761.0066245192615"
      ]
     },
     "execution_count": 4,
     "metadata": {},
     "output_type": "execute_result"
    }
   ],
   "source": [
    "nomi = pgeocode.Nominatim('MX')\n",
    "\n",
    "second_location = [nomi.query_postal_code('52140').latitude, nomi.query_postal_code('52140').longitude]\n",
    "\n",
    "geodesic(first_location, second_location).kilometers"
   ]
  },
  {
   "cell_type": "markdown",
   "id": "6c8b2dfc",
   "metadata": {},
   "source": [
    "#Function for calculating distances\n",
    "\n"
   ]
  },
  {
   "cell_type": "code",
   "execution_count": 28,
   "id": "9d56c1f0",
   "metadata": {},
   "outputs": [],
   "source": [
    "# Function for calculating distances\n",
    "\n",
    "\n",
    "def Distance_km_list(csv):\n",
    "    \n",
    "    #Check distance:\n",
    "    if len(csv.iloc[:,2][1])!= 2 or len(csv.iloc[:,2][1]):\n",
    "        response = 'Your Country codes must be 2 letters long. Please upload csv as the example.'\n",
    "        \n",
    "    else:\n",
    "        response = getDistance(csv)\n",
    "        \n",
    "    return response "
   ]
  },
  {
   "cell_type": "code",
   "execution_count": 18,
   "id": "90e2a445",
   "metadata": {},
   "outputs": [
    {
     "name": "stdout",
     "output_type": "stream",
     "text": [
      "['MX|52140.US|54946', 'MX|52148.CA|T2M']\n"
     ]
    }
   ],
   "source": [
    "def parse_csv(csv):\n",
    "    travel_list = []\n",
    "    for i in range(len(csv)):\n",
    "        string = str(csv.iloc[i,0]) + '|' + str(csv.iloc[i,1]) + '.' + str(csv.iloc[i,2]) + '|' + str(csv.iloc[i,3])\n",
    "        travel_list.append(string)\n",
    "        \n",
    "        \n",
    "    unique_travel_list = np.unique(travel_list)\n",
    "    country_1_lst = []\n",
    "    country_2_lst = []\n",
    "    Zip_1_lst = []\n",
    "    Zip_2_lst = []\n",
    "        \n",
    "    for i in range(len(unique_travel_list)):\n",
    "        dest_list = unique_travel_list[i].split('.')\n",
    "        \n",
    "        for j in range(len(dest_list)):\n",
    "            \n",
    "            if j%2 == 0:\n",
    "                item = dest_list[j].split('|')\n",
    "                country_1_lst.append(item[0])\n",
    "                Zip_1_lst.append(item[1])\n",
    "            else:\n",
    "                item = dest_list[j].split('|')\n",
    "                country_2_lst.append(item[0])\n",
    "                Zip_2_lst.append(item[1])\n",
    "        \n",
    "    return country_1_lst, country_2_lst, Zip_1_lst, Zip_2_lst, unique_travel_list, travel_list\n",
    "\n",
    "\n",
    "print(parse_csv(csv)[5])\n",
    "        \n",
    "    \n",
    "    \n",
    "\n",
    "\n",
    "\n",
    "    \n",
    "   \n",
    "    \n",
    "#Finaly got list of 1st country and list of second country and their zip code lists, make all this a parse function    \n",
    "#Just need to loop through parse_csv results and calculate distances. Then use unique_travel_list and distance list to \n",
    "#add distances to table"
   ]
  },
  {
   "cell_type": "code",
   "execution_count": 24,
   "id": "3c83efff",
   "metadata": {},
   "outputs": [],
   "source": [
    "def buildFinaltable(parsed_lists, csv, distance_list):\n",
    "    distance_lst = []\n",
    "    unique_travel_lst = parsed_lists[4]\n",
    "    \n",
    "    for i in range(len(csv)):\n",
    "        istring =str(csv.iloc[i,0]) + '|' + str(csv.iloc[i,1]) + '.' + str(csv.iloc[i,2]) + '|' + str(csv.iloc[i,3])\n",
    "        \n",
    "        for j in range(len(unique_travel_lst)):\n",
    "            if istring == unique_travel_lst[j]:\n",
    "                distance_lst.append(distance_list[j])\n",
    "                \n",
    "                \n",
    "    csv[\"Distance (km)\"] = distance_lst\n",
    "    \n",
    "    return csv\n",
    "\n",
    "\n",
    "            "
   ]
  },
  {
   "cell_type": "code",
   "execution_count": 26,
   "id": "1d589818",
   "metadata": {},
   "outputs": [],
   "source": [
    "def getDistance(csv):\n",
    "    parsed_lists = parse_csv(csv)\n",
    "    country_1_lst = parsed_lists[0]\n",
    "    country_2_lst = parsed_lists[1]\n",
    "    Zip_1_lst = parsed_lists[2]\n",
    "    Zip_2_lst = parsed_lists[3]\n",
    "    distance_list = []\n",
    "    \n",
    "    for i in range(len(country_1_lst)):\n",
    "                   nomii = pgeocode.Nominatim(country_1_lst[i])\n",
    "                   nomij = pgeocode.Nominatim(country_2_lst[i])\n",
    "                   first_location = [nomii.query_postal_code(Zip_1_lst[i]).latitude, nomii.query_postal_code(Zip_1_lst[i]).longitude]\n",
    "                   second_location = [nomij.query_postal_code(Zip_2_lst[i]).latitude, nomij.query_postal_code(Zip_2_lst[i]).longitude]\n",
    "                   distance_list.append(geodesic(first_location, second_location).kilometers)\n",
    "                   \n",
    "    Final_table = buildFinaltable(parsed_lists, csv, distance_list)\n",
    "    \n",
    "    return  Final_table\n",
    "                   \n",
    "\n",
    "\n",
    "\n",
    "\n"
   ]
  },
  {
   "cell_type": "code",
   "execution_count": 33,
   "id": "73e9fe9b",
   "metadata": {},
   "outputs": [
    {
     "data": {
      "text/plain": [
       "pandas.core.frame.DataFrame"
      ]
     },
     "execution_count": 33,
     "metadata": {},
     "output_type": "execute_result"
    }
   ],
   "source": [
    "type(getDistance(csv))\n"
   ]
  }
 ],
 "metadata": {
  "kernelspec": {
   "display_name": "Python 3 (ipykernel)",
   "language": "python",
   "name": "python3"
  },
  "language_info": {
   "codemirror_mode": {
    "name": "ipython",
    "version": 3
   },
   "file_extension": ".py",
   "mimetype": "text/x-python",
   "name": "python",
   "nbconvert_exporter": "python",
   "pygments_lexer": "ipython3",
   "version": "3.9.13"
  }
 },
 "nbformat": 4,
 "nbformat_minor": 5
}
